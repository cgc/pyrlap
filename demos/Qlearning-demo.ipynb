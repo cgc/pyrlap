{
 "cells": [
  {
   "cell_type": "code",
   "execution_count": 4,
   "metadata": {},
   "outputs": [],
   "source": [
    "%matplotlib inline\n",
    "\n",
    "import time\n",
    "\n",
    "import numpy as np\n",
    "import pandas as pd\n",
    "import seaborn as sns\n",
    "\n",
    "from easymdp3.domains.gridworld import GridWorld\n",
    "from easymdp3.algorithms.qlearning import Qlearning"
   ]
  },
  {
   "cell_type": "code",
   "execution_count": 5,
   "metadata": {},
   "outputs": [],
   "source": [
    "gw = GridWorld(\n",
    "    gridworld_array=['...........',\n",
    "                     '.xxxxxxxxxy',\n",
    "                     '.xxxxxxxxxx'],\n",
    "    absorbing_states=[(10, 1),],\n",
    "    init_state=(0, 1),\n",
    "    feature_rewards={'.':-1, 'x':-10, 'y':100},\n",
    "    discount_rate=.99)\n",
    "s_features = gw.state_features"
   ]
  },
  {
   "cell_type": "code",
   "execution_count": 13,
   "metadata": {},
   "outputs": [],
   "source": [
    "np.random.seed(123)\n",
    "all_run_data = []"
   ]
  },
  {
   "cell_type": "code",
   "execution_count": 14,
   "metadata": {},
   "outputs": [
    {
     "name": "stdout",
     "output_type": "stream",
     "text": [
      "total time: 2.01\n"
     ]
    }
   ],
   "source": [
    "start = time.time()\n",
    "for i in range(20):\n",
    "    params = {'learning_rate': 1,\n",
    "              'eligibility_trace_decay': .8,\n",
    "              'initial_qvalue': 100}\n",
    "    qlearn = Qlearning(gw, \n",
    "                       decision_rule='softmax',\n",
    "                       softmax_temp=.2, \n",
    "                       discount_rate=.99,\n",
    "                       **params)\n",
    "    run_data = qlearn.train(episodes=50, \n",
    "                            max_steps=100,\n",
    "                            run_id=i,\n",
    "                            return_run_data=True)\n",
    "    for r in run_data:\n",
    "        r.update(params)\n",
    "    all_run_data.extend(run_data)\n",
    "print(\"total time: {:.2f}\".format(time.time() - start))"
   ]
  },
  {
   "cell_type": "code",
   "execution_count": 15,
   "metadata": {},
   "outputs": [],
   "source": [
    "run_df = pd.DataFrame(all_run_data)\n",
    "run_df['is_x'] = run_df['s'].apply(lambda s: s_features[s] == 'x')\n",
    "param_list = run_df[['learning_rate', 'initial_qvalue', 'eligibility_trace_decay']]\n",
    "param_list = param_list.to_records(index=False)\n",
    "param_list = [str(tuple(p)) for p in param_list]\n",
    "run_df['params'] = param_list"
   ]
  },
  {
   "cell_type": "code",
   "execution_count": 16,
   "metadata": {},
   "outputs": [
    {
     "data": {
      "image/png": "[encoded data removed]",
      "text/plain": [
       "<matplotlib.figure.Figure at 0x1081dc358>"
      ]
     },
     "metadata": {},
     "output_type": "display_data"
    }
   ],
   "source": [
    "ep_rewards = run_df.groupby(['run_id', 'episode', 'params'])['r']\\\n",
    "    .sum().reset_index()\n",
    "ax = sns.pointplot(data=ep_rewards, \n",
    "                   x='episode', \n",
    "                   y='r', \n",
    "                   hue='params')"
   ]
  }
 ],
 "metadata": {
  "kernelspec": {
   "display_name": "Python 3",
   "language": "python",
   "name": "python3"
  },
  "language_info": {
   "codemirror_mode": {
    "name": "ipython",
    "version": 3
   },
   "file_extension": ".py",
   "mimetype": "text/x-python",
   "name": "python",
   "nbconvert_exporter": "python",
   "pygments_lexer": "ipython3",
   "version": "3.6.4"
  }
 },
 "nbformat": 4,
 "nbformat_minor": 2
}
